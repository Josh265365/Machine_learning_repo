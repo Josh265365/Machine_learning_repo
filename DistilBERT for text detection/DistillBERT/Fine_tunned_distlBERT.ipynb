{
 "cells": [
  {
   "cell_type": "code",
   "execution_count": 1,
   "id": "b2d8a5c9-f196-4aa2-801d-18e7c07e9b5e",
   "metadata": {},
   "outputs": [
    {
     "data": {
      "text/plain": [
       "device(type='cuda', index=0)"
      ]
     },
     "execution_count": 1,
     "metadata": {},
     "output_type": "execute_result"
    }
   ],
   "source": [
    "import torch\n",
    "\n",
    "device = torch.device(\"cuda:0\" if torch.cuda.is_available() else \"cpu\")\n",
    "device"
   ]
  },
  {
   "cell_type": "code",
   "execution_count": 2,
   "id": "63c8b6e2-7913-4a65-8e8c-910350213999",
   "metadata": {},
   "outputs": [],
   "source": [
    "import pickle"
   ]
  },
  {
   "cell_type": "code",
   "execution_count": 3,
   "id": "c7c34547-5d79-40cc-a4f8-a1bc2ca19516",
   "metadata": {},
   "outputs": [
    {
     "name": "stderr",
     "output_type": "stream",
     "text": [
      "C:\\Users\\salij\\AppData\\Local\\Packages\\PythonSoftwareFoundation.Python.3.11_qbz5n2kfra8p0\\LocalCache\\local-packages\\Python311\\site-packages\\tqdm\\auto.py:21: TqdmWarning: IProgress not found. Please update jupyter and ipywidgets. See https://ipywidgets.readthedocs.io/en/stable/user_install.html\n",
      "  from .autonotebook import tqdm as notebook_tqdm\n"
     ]
    }
   ],
   "source": [
    "# Load the model\n",
    "with open('model.pkl', 'rb') as f:\n",
    "    model = pickle.load(f)"
   ]
  },
  {
   "cell_type": "code",
   "execution_count": 38,
   "id": "0b0a807f-8598-4681-8d79-1ff74d3074a9",
   "metadata": {},
   "outputs": [],
   "source": [
    "model = model\n",
    "model.eval().to(device)  # Set the model to evaluation mode\n",
    "\n",
    "# Function to predict the class of a text\n",
    "def predict(text, model, tokenizer, device):\n",
    "    # Preprocessing the text\n",
    "    inputs = tokenizer(text, truncation=True, padding=True, return_tensors=\"pt\").to(device)\n",
    "\n",
    "    # Getting the model's predictions\n",
    "    outputs = model(**inputs)\n",
    "\n",
    "    # Getting the predicted class\n",
    "    pred_class = outputs.logits.argmax(-1).item()\n",
    "\n",
    "    # Convert the predicted class to a string label\n",
    "    if pred_class == 0:\n",
    "        return \"news article / generic post\"\n",
    "    else:\n",
    "        return \"trading\""
   ]
  },
  {
   "cell_type": "code",
   "execution_count": 39,
   "id": "c6129e7e-42d8-4a08-ad0a-3e2062442405",
   "metadata": {},
   "outputs": [],
   "source": [
    "from transformers import AutoTokenizer\n",
    "tokenizer = AutoTokenizer.from_pretrained(\"distilbert-base-uncased\")"
   ]
  },
  {
   "cell_type": "code",
   "execution_count": 41,
   "id": "7e75658f-a139-487e-96cd-9364c02d3cc8",
   "metadata": {},
   "outputs": [
    {
     "name": "stdout",
     "output_type": "stream",
     "text": [
      "The predicted class is: trading\n"
     ]
    }
   ],
   "source": [
    "# Example tweet\n",
    "text = \"i have elephant ivory for sale\"\n",
    "\n",
    "# Calling the predict function\n",
    "pred_class = predict(text, model, tokenizer,device)\n",
    "\n",
    "# Printing the predicted class\n",
    "print(f\"The predicted class is: {pred_class}\")"
   ]
  }
 ],
 "metadata": {
  "kernelspec": {
   "display_name": "Python 3 (ipykernel)",
   "language": "python",
   "name": "python3"
  },
  "language_info": {
   "codemirror_mode": {
    "name": "ipython",
    "version": 3
   },
   "file_extension": ".py",
   "mimetype": "text/x-python",
   "name": "python",
   "nbconvert_exporter": "python",
   "pygments_lexer": "ipython3",
   "version": "3.11.9"
  }
 },
 "nbformat": 4,
 "nbformat_minor": 5
}
