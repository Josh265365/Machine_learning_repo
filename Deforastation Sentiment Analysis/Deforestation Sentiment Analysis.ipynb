{
  "nbformat": 4,
  "nbformat_minor": 0,
  "metadata": {
    "colab": {
      "provenance": []
    },
    "kernelspec": {
      "name": "python3",
      "display_name": "Python 3"
    },
    "language_info": {
      "name": "python"
    }
  },
  "cells": [
    {
      "cell_type": "code",
      "execution_count": null,
      "metadata": {
        "id": "UNka8WbEvAYY"
      },
      "outputs": [],
      "source": [
        "import pandas as pd\n",
        "\n",
        "data  = pd.read_csv('/content/deforestation_sentiment_train.csv', usecols=[\"text\",\"distillbert_valence\"])\n",
        "num_classes = 2\n",
        "data"
      ]
    },
    {
      "cell_type": "code",
      "source": [
        "\n",
        "from gensim.parsing.preprocessing import remove_stopwords\n",
        "\n",
        "import re\n",
        "def process_sentence(sentence):\n",
        "    '''Removes all special characters from sentence. It will also strip out\n",
        "    extra whitespace and makes the string lowercase.\n",
        "    '''\n",
        "\n",
        "    return re.sub(r'[@#\\\\\\\\/:*«`\\'?¿\";!<>,.|_]+', '', sentence.lower().strip())\n",
        "\n",
        "def smallwords_remover(tweet):\n",
        "  #remove all stop words\n",
        "    return remove_stopwords(tweet)\n",
        "\n",
        "\n",
        "\n",
        "def sentiment_converter(neg_pos_sent):\n",
        "  if (neg_pos_sent < 0):\n",
        "    return \"0\"\n",
        "  else:\n",
        "    return \"1\"\n",
        "\n",
        "# Clean the sentences\n",
        "X = data[\"text\"].apply(process_sentence).apply(smallwords_remover)[:500]\n",
        "y = data[\"distillbert_valence\"].apply(sentiment_converter)[:500]\n",
        "\n",
        "labels  = set(y)\n",
        "\n",
        "print(X)"
      ],
      "metadata": {
        "id": "_luipN-rPuDH"
      },
      "execution_count": null,
      "outputs": []
    },
    {
      "cell_type": "code",
      "source": [
        "#word cloud visualisation\n",
        "text = data['text'].values\n",
        "\n",
        "import matplotlib.pyplot as plt\n",
        "from wordcloud import WordCloud, STOPWORDS\n",
        "wordcloud = WordCloud().generate(str(text))\n",
        "plt.imshow(wordcloud)\n",
        "plt.axis(\"off\")\n",
        "plt.show()"
      ],
      "metadata": {
        "id": "Lawym_KE_KAB"
      },
      "execution_count": null,
      "outputs": []
    },
    {
      "cell_type": "code",
      "source": [
        "from sklearn.model_selection import train_test_split\n",
        "\n",
        "\n",
        "x_train, x_test, y_train, y_test = train_test_split(X, y, test_size=0.2,\n",
        "random_state=42)\n",
        "\n",
        "print(len(x_train), len(x_test))\n",
        "\n",
        "len(x_train), len(x_test)\n",
        "labels = set(y)\n",
        "\n",
        "#split all our sentences\n",
        "\n",
        "elements = (' '.join([sentence for sentence in X])).split()\n",
        "print(\"Feature Shapes:\")\n",
        "print(\"\\tTrain set: \\t\\t{}\".format(x_train.shape),\n",
        "      \"\\n\\tTest set: \\t\\t{}\".format(x_test.shape))\n",
        "print(\"Totals:\\n\\tWords in our Dataset: {}\\n\\tLabels: {}\".format(len(elements), len(labels)))"
      ],
      "metadata": {
        "id": "EcbAjQlQUqlA"
      },
      "execution_count": null,
      "outputs": []
    },
    {
      "cell_type": "code",
      "source": [
        "#lets look at our training data\n",
        "print(x_train[:10], y_train[:10])"
      ],
      "metadata": {
        "id": "DJuoLlOcU8Rd"
      },
      "execution_count": null,
      "outputs": []
    },
    {
      "cell_type": "code",
      "source": [
        "# Look up table, encoding vocab to numbers and numbers back to vocab\n",
        "\n",
        "def create_lookup_tables(text):\n",
        "    \"\"\"Create lookup tables for vocabulary\n",
        "    :param text: The text split into words\n",
        "    :return: A tuple of dicts (vocab_to_int, int_to_vocab)\n",
        "    \"\"\"\n",
        "    vocab = set(text)\n",
        "\n",
        "    vocab_to_int = {word: i for i, word in enumerate(vocab)}\n",
        "    int_to_vocab = {v:k for k, v in vocab_to_int.items()}\n",
        "\n",
        "    return vocab_to_int, int_to_vocab\n",
        "\n",
        "elements.append(\"<UNK>\")\n",
        "\n",
        "    # Map our vocab to int\n",
        "vocab_to_int, int_to_vocab = create_lookup_tables(elements)\n",
        "labels_to_int, int_to_labels = create_lookup_tables(y)\n",
        "\n",
        "print(\"Vocabulary of our dataset: {}\".format(len(vocab_to_int)))"
      ],
      "metadata": {
        "id": "_tfpUOrMVnbl",
        "colab": {
          "base_uri": "https://localhost:8080/"
        },
        "outputId": "763b2c6b-ec1e-4dc6-c78d-5ef8a8acec70"
      },
      "execution_count": null,
      "outputs": [
        {
          "output_type": "stream",
          "name": "stdout",
          "text": [
            "Vocabulary of our dataset: 4836\n"
          ]
        }
      ]
    },
    {
      "cell_type": "code",
      "source": [
        "def convert_to_int(data, data_int):\n",
        "    \"\"\"Converts all our text to integers\n",
        "    :param data: The text to be converted\n",
        "    :return: All sentences in ints\n",
        "    \"\"\"\n",
        "    all_items = []\n",
        "    for sentence in data:\n",
        "        all_items.append([data_int[word] if word in data_int else data_int[\"<UNK>\"] for word in sentence.split()])\n",
        "\n",
        "    return all_items"
      ],
      "metadata": {
        "id": "BETCRs0gWYxU"
      },
      "execution_count": null,
      "outputs": []
    },
    {
      "cell_type": "code",
      "source": [
        "     # Convert our inputs\n",
        "X_test_encoded = convert_to_int(x_test, vocab_to_int)\n",
        "X_train_encoded = convert_to_int(x_train, vocab_to_int)"
      ],
      "metadata": {
        "id": "nIaKY4P_Zza9"
      },
      "execution_count": null,
      "outputs": []
    },
    {
      "cell_type": "code",
      "source": [
        "y_data = convert_to_int(y_test, labels_to_int)"
      ],
      "metadata": {
        "id": "mrsPPW1btoyh"
      },
      "execution_count": null,
      "outputs": []
    },
    {
      "cell_type": "code",
      "source": [
        "\n",
        "from sklearn.preprocessing import OneHotEncoder\n",
        "enc = OneHotEncoder()\n",
        "enc.fit(y_data)"
      ],
      "metadata": {
        "id": "uDL_vr8ErMeX",
        "colab": {
          "base_uri": "https://localhost:8080/"
        },
        "outputId": "f9cb7cd9-fee0-472c-971b-1e58c5f071ed"
      },
      "execution_count": null,
      "outputs": [
        {
          "output_type": "execute_result",
          "data": {
            "text/plain": [
              "OneHotEncoder()"
            ]
          },
          "metadata": {},
          "execution_count": 105
        }
      ]
    },
    {
      "cell_type": "code",
      "source": [
        "# One hot encoding our outputs\n",
        "y_train_encoded = enc.fit_transform(convert_to_int(y_train, labels_to_int)).toarray()\n",
        "y_test_encoded = enc.fit_transform(convert_to_int(y_test, labels_to_int)).toarray()\n",
        "\n",
        "# Sample of our encoding\n",
        "print(y_train_encoded[:10],'\\n', y_train[:10])"
      ],
      "metadata": {
        "id": "L_ZsHDo16tMB"
      },
      "execution_count": null,
      "outputs": []
    },
    {
      "cell_type": "code",
      "source": [
        "#Downloading pre trained Glove embeddings\n",
        "\n",
        "!wget http://nlp.stanford.edu/data/glove.6B.zip\n",
        "!unzip -q glove.6B.zip\n",
        "path_to_glove_file = \"/content/glove.6B.100d.txt\""
      ],
      "metadata": {
        "id": "8zakKg61fBbM"
      },
      "execution_count": null,
      "outputs": []
    },
    {
      "cell_type": "code",
      "source": [
        "import numpy as np\n",
        "\n",
        "embeddings_index = {}\n",
        "with open(path_to_glove_file) as f:\n",
        "  for line in f:\n",
        "    word, coefs = line.split(maxsplit=1)\n",
        "    coefs = np.fromstring(coefs, \"f\", sep= \" \")\n",
        "    embeddings_index[word] = coefs\n",
        "\n",
        "print(\"Found %s word vectors.\" % len(embeddings_index))\n",
        "\n",
        "num_tokens = len(set(elements)) + 2\n",
        "\n",
        "embedding_dim = 100\n",
        "hits = 0\n",
        "misses = 0"
      ],
      "metadata": {
        "id": "TrHU5TlsfDqx",
        "colab": {
          "base_uri": "https://localhost:8080/"
        },
        "outputId": "19bf781a-1807-43ed-9253-10588a6cd714"
      },
      "execution_count": null,
      "outputs": [
        {
          "output_type": "stream",
          "name": "stdout",
          "text": [
            "Found 400000 word vectors.\n"
          ]
        }
      ]
    },
    {
      "cell_type": "code",
      "source": [
        "#Prepare embedding matrix\n",
        "\n",
        "embedding_matrix = np.zeros((num_tokens, embedding_dim))\n",
        "for word, i in vocab_to_int.items():\n",
        "  embedding_vector = embeddings_index.get(word)\n",
        "  if embedding_vector is not None:\n",
        "    #Words not found in embedding index will be all zeros\n",
        "    #This includes the representation for \"padding\" and Out of vocabulary\n",
        "    embedding_matrix[i] = embedding_vector\n",
        "    hits += 1\n",
        "  else:\n",
        "    misses += 1\n",
        "print(\"Converted %d words (%d misses)\" % (hits, misses))"
      ],
      "metadata": {
        "id": "M55ujIbBfJtT",
        "colab": {
          "base_uri": "https://localhost:8080/"
        },
        "outputId": "9914d3ba-6761-4bba-fcdc-48a790ea6fbc"
      },
      "execution_count": null,
      "outputs": [
        {
          "output_type": "stream",
          "name": "stdout",
          "text": [
            "Converted 2918 words (1918 misses)\n"
          ]
        }
      ]
    },
    {
      "cell_type": "code",
      "source": [
        "import tensorflow as tf\n",
        "\n",
        "# Import Keras\n",
        "from tensorflow import keras\n",
        "from tensorflow.keras.models import Sequential\n",
        "from tensorflow.keras.layers import Dense\n",
        "from tensorflow.keras.layers import SimpleRNN, LSTM, GRU, Embedding\n",
        "from keras.preprocessing import sequence\n",
        "\n",
        "# Hyperparameters\n",
        "max_sentence_length = 200\n",
        "embedding_vector_length = 300\n",
        "dropout = 0.5"
      ],
      "metadata": {
        "id": "q_8GOcyifRKE"
      },
      "execution_count": null,
      "outputs": []
    },
    {
      "cell_type": "code",
      "source": [
        "# Truncate and pad input sentences\n",
        "X_train_pad = keras.preprocessing.sequence.pad_sequences(X_train_encoded, maxlen=max_sentence_length)\n",
        "X_test_pad = keras.preprocessing.sequence.pad_sequences(X_test_encoded, maxlen=max_sentence_length)"
      ],
      "metadata": {
        "id": "uDFOBmqtfUfA"
      },
      "execution_count": null,
      "outputs": []
    },
    {
      "cell_type": "code",
      "source": [
        "# Create the model\n",
        "model = Sequential()\n",
        "\n",
        "embedding_layer = Embedding(\n",
        "    num_tokens,\n",
        "    embedding_dim,\n",
        "    embeddings_initializer=keras.initializers.Constant(embedding_matrix),\n",
        "    trainable=True,\n",
        ")\n",
        "\n",
        "model.add(embedding_layer)\n",
        "model.add(GRU(256, return_sequences=True, dropout=dropout, recurrent_dropout=dropout))\n",
        "model.add(GRU(256, dropout=dropout, recurrent_dropout=dropout))\n",
        "model.add(Dense(len(labels), activation='softmax'))\n",
        "\n",
        "model.compile(loss='categorical_crossentropy', optimizer='adam', metrics=['accuracy'])\n",
        "\n",
        "print(model.summary())\n",
        "\n",
        "# Train the model\n",
        "hist = model.fit(X_train_pad, y_train_encoded, batch_size=32, epochs=10, validation_data=(X_test_pad, y_test_encoded))\n",
        "\n",
        "# Final evaluation of the model\n",
        "scores = model.evaluate(X_test_pad, y_test_encoded, verbose=0)\n",
        "print(\"Accuracy: %.2f%%\" % (scores[1]*100))\n",
        "\n",
        "plt.plot(hist.history['accuracy'])\n",
        "plt.plot(hist.history['val_accuracy'])\n",
        "plt.title('Model accuracy')\n",
        "plt.ylabel('Accuracy')\n",
        "plt.xlabel('Epoch')\n",
        "plt.legend(['Train', 'val'], loc = 'lower right')\n",
        "plt.show()\n",
        "\n",
        "plt.plot(hist.history['loss'])\n",
        "plt.plot(hist.history['val_loss'])\n",
        "plt.title('Model loss')\n",
        "plt.ylabel('loss')\n",
        "plt.xlabel('Epoch')\n",
        "plt.legend(['Train', 'val'], loc = 'lower right')\n",
        "plt.ylim(top=1.2, bottom=0)\n",
        "plt.show()\n",
        "\n",
        "def predict_sentence(sentence):\n",
        "    \"\"\"Converts the text and sends it to the model for classification\n",
        "    :param sentence: The text to predict\n",
        "    :return: string - The label of the sentence\n",
        "    \"\"\"\n",
        "\n",
        "    # Clean the sentence\n",
        "    sentence = process_sentence(sentence)\n",
        "\n",
        "    # Transform and pad it before using the model to predict\n",
        "    x = numpy.array(convert_to_int([sentence], vocab_to_int))\n",
        "    x = sequence.pad_sequences(x, maxlen=max_sentence_length)\n",
        "\n",
        "    prediction = model.predict(x)\n",
        "\n",
        "    # Get the highest prediction\n",
        "    lang_index = numpy.argmax(prediction)\n",
        "\n",
        "    return int_to_labels[lang_index]"
      ],
      "metadata": {
        "id": "5qzH9zhyfY-A",
        "colab": {
          "base_uri": "https://localhost:8080/",
          "height": 1000
        },
        "outputId": "2c7c0ee1-0223-4242-c6c0-86f09e4549ea"
      },
      "execution_count": null,
      "outputs": [
        {
          "output_type": "stream",
          "name": "stdout",
          "text": [
            "Model: \"sequential_8\"\n",
            "_________________________________________________________________\n",
            " Layer (type)                Output Shape              Param #   \n",
            "=================================================================\n",
            " embedding_8 (Embedding)     (None, None, 100)         483800    \n",
            "                                                                 \n",
            " gru_16 (GRU)                (None, None, 256)         274944    \n",
            "                                                                 \n",
            " gru_17 (GRU)                (None, 256)               394752    \n",
            "                                                                 \n",
            " dense_8 (Dense)             (None, 2)                 514       \n",
            "                                                                 \n",
            "=================================================================\n",
            "Total params: 1,154,010\n",
            "Trainable params: 1,154,010\n",
            "Non-trainable params: 0\n",
            "_________________________________________________________________\n",
            "None\n",
            "Epoch 1/10\n",
            "13/13 [==============================] - 36s 2s/step - loss: 0.5541 - accuracy: 0.7575 - val_loss: 0.5524 - val_accuracy: 0.7500\n",
            "Epoch 2/10\n",
            "13/13 [==============================] - 29s 2s/step - loss: 0.4830 - accuracy: 0.7775 - val_loss: 0.5207 - val_accuracy: 0.8000\n",
            "Epoch 3/10\n",
            "13/13 [==============================] - 30s 2s/step - loss: 0.4326 - accuracy: 0.8025 - val_loss: 0.4830 - val_accuracy: 0.8000\n",
            "Epoch 4/10\n",
            "13/13 [==============================] - 30s 2s/step - loss: 0.3715 - accuracy: 0.8325 - val_loss: 0.5548 - val_accuracy: 0.8300\n",
            "Epoch 5/10\n",
            "13/13 [==============================] - 29s 2s/step - loss: 0.3315 - accuracy: 0.8750 - val_loss: 0.5253 - val_accuracy: 0.8300\n",
            "Epoch 6/10\n",
            "13/13 [==============================] - 30s 2s/step - loss: 0.3045 - accuracy: 0.8675 - val_loss: 0.5604 - val_accuracy: 0.7500\n",
            "Epoch 7/10\n",
            "13/13 [==============================] - 30s 2s/step - loss: 0.2744 - accuracy: 0.8825 - val_loss: 0.5396 - val_accuracy: 0.8500\n",
            "Epoch 8/10\n",
            "13/13 [==============================] - 29s 2s/step - loss: 0.1832 - accuracy: 0.9375 - val_loss: 0.6856 - val_accuracy: 0.8600\n",
            "Epoch 9/10\n",
            "13/13 [==============================] - 30s 2s/step - loss: 0.1946 - accuracy: 0.9175 - val_loss: 0.6026 - val_accuracy: 0.7600\n",
            "Epoch 10/10\n",
            "13/13 [==============================] - 30s 2s/step - loss: 0.1789 - accuracy: 0.9125 - val_loss: 0.5838 - val_accuracy: 0.8400\n",
            "Accuracy: 84.00%\n"
          ]
        },
        {
          "output_type": "display_data",
          "data": {
            "text/plain": [
              "<Figure size 432x288 with 1 Axes>"
            ],
            "image/png": "[encoded data removed]"
          },
          "metadata": {
            "needs_background": "light"
          }
        },
        {
          "output_type": "display_data",
          "data": {
            "text/plain": [
              "<Figure size 432x288 with 1 Axes>"
            ],
            "image/png": "[encoded data removed]"
          },
          "metadata": {
            "needs_background": "light"
          }
        }
      ]
    }
  ]
}